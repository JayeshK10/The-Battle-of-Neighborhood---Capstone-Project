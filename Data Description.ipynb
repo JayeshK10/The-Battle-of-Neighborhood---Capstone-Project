{
    "cells": [
        {
            "cell_type": "markdown",
            "metadata": {
                "collapsed": true
            },
            "source": "# The Battle of Neighborhoods \n\n## Data Description"
        },
        {
            "cell_type": "markdown",
            "metadata": {},
            "source": "Data Link for London :\n\nData Link for New York City :\n\nData Link for Toronto :\n\nWe used these DataSets to generate a DataFrame consisting of - \n1. Neighborhood\n2. Neighborhood Latitude\n3. Neighborhood Longitude"
        },
        {
            "cell_type": "markdown",
            "metadata": {},
            "source": "### FourSquare API Data:"
        },
        {
            "cell_type": "markdown",
            "metadata": {},
            "source": "We will need data about different venues in different neighborhoods of that specific borough. In order to gain that information we will use \"Foursquare\" locational information. Foursquare is a location data provider with information about all manner of venues and events within an area of interest. Such information includes venue names, locations, menus and even photos. As such, the foursquare location platform will be used as the sole data source since all the stated required information can be obtained through the API.\n\nAfter finding the list of neighborhoods, we then connect to FourSquare API to collect the information we need about the specific venues. We collect the data for about 100 meter radius near the neighborhoods.\n\nThe data retrieved from Foursquare containes :\n1. Neighborhood\n2. Neighborhood Latitude\n3. Neighborhood Longitude\n4. Venue\n5. Name of the venue e.g. the name of a store or restaurant\n6. Venue Latitude\n7. Venue Longitude\n8. Venue Category"
        },
        {
            "cell_type": "code",
            "execution_count": null,
            "metadata": {},
            "outputs": [],
            "source": ""
        }
    ],
    "metadata": {
        "kernelspec": {
            "display_name": "Python 3.7",
            "language": "python",
            "name": "python3"
        },
        "language_info": {
            "codemirror_mode": {
                "name": "ipython",
                "version": 3
            },
            "file_extension": ".py",
            "mimetype": "text/x-python",
            "name": "python",
            "nbconvert_exporter": "python",
            "pygments_lexer": "ipython3",
            "version": "3.7.9"
        }
    },
    "nbformat": 4,
    "nbformat_minor": 1
}