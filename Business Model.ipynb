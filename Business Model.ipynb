{
    "cells": [
        {
            "cell_type": "markdown",
            "metadata": {
                "collapsed": true
            },
            "source": "# The Battle of Neighborhoods \n\n## Bussiness Proposal | Introduction "
        },
        {
            "cell_type": "markdown",
            "metadata": {},
            "source": "### Introduction :"
        },
        {
            "cell_type": "markdown",
            "metadata": {},
            "source": "The purpose of this Project is to help people in exploring similar cities\naround the world. It will help people making smart and efficient decision on selecting places when they move around the globe. Here we find  similar cities between London , New York and Toronto.\n\nThese three are the most densely populated cities around their region. Lots of people move around these cities. This project is for people to move around the world and still find the similar places to those which they are used to living.\nFor ease of accessing to Cafe, School, Super market, medical shops, grocery shops, mall, theatre, hospital, like minded people, etc.\n\nThis Capstone project aims to create an analysis for people migrating to other parts of the world by comparative analysis between neighborhoods of cities. The features include summations of kinds of venues available in the neighborhood. \n\nIt will help people to get awareness of the area and neighborhood before moving to a new city, state, country or place for their work or to start a new fresh life."
        },
        {
            "cell_type": "markdown",
            "metadata": {},
            "source": "### Problem Statement :"
        },
        {
            "cell_type": "markdown",
            "metadata": {},
            "source": "Compare the neighborhoods of the mutiple cities and determine how similar or dissimilar they are. Is New York City more like Toronto or London?"
        },
        {
            "cell_type": "markdown",
            "metadata": {},
            "source": "### FourSquare API :"
        },
        {
            "cell_type": "markdown",
            "metadata": {},
            "source": "This project would use Four-square API as its prime data gathering source as it has a database of millions of places, especially their places API which provides the ability to perform location search, location sharing and details about a business."
        },
        {
            "cell_type": "markdown",
            "metadata": {},
            "source": "### Approach"
        },
        {
            "cell_type": "markdown",
            "metadata": {},
            "source": "To compare the similarities of these cities, we decided to explore neighborhoods, segment them to find various types of venues in a big city like London , New York and Toronto. To be able to do that, we need to use unsupervised machine learning tools."
        },
        {
            "cell_type": "markdown",
            "metadata": {},
            "source": "### Libraries used to Develope the Project :"
        },
        {
            "cell_type": "markdown",
            "metadata": {},
            "source": "Pandas - For For creating and manipulating dataframes ,  data Wrangling \nFolium - Python visualization library of Map\nJSON - To handle JSON files\nGeocoder - To retrieve Location Data\nMatplotlib & Seaborn - Python Plotting Module \n"
        },
        {
            "cell_type": "code",
            "execution_count": null,
            "metadata": {},
            "outputs": [],
            "source": ""
        }
    ],
    "metadata": {
        "kernelspec": {
            "display_name": "Python 3.7",
            "language": "python",
            "name": "python3"
        },
        "language_info": {
            "codemirror_mode": {
                "name": "ipython",
                "version": 3
            },
            "file_extension": ".py",
            "mimetype": "text/x-python",
            "name": "python",
            "nbconvert_exporter": "python",
            "pygments_lexer": "ipython3",
            "version": "3.7.9"
        }
    },
    "nbformat": 4,
    "nbformat_minor": 1
}